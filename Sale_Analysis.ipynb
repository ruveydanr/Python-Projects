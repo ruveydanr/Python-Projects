{
 "cells": [
  {
   "cell_type": "markdown",
   "id": "665a40d6-dd81-4ee6-8b23-c1818547f594",
   "metadata": {},
   "source": [
    "# Sales Analysis"
   ]
  },
  {
   "cell_type": "code",
   "execution_count": 1,
   "id": "2d81776f-67ae-4a2d-8918-33249fe534d4",
   "metadata": {},
   "outputs": [],
   "source": [
    "import pandas as pd"
   ]
  },
  {
   "cell_type": "markdown",
   "id": "ca69d885-f29b-4686-88ca-9b3b2e23cff8",
   "metadata": {},
   "source": [
    " task1: merge 12 csv folder in one folder"
   ]
  },
  {
   "cell_type": "code",
   "execution_count": 3,
   "id": "3d0099ef-5563-47ad-b049-2a6538430cb0",
   "metadata": {},
   "outputs": [
    {
     "data": {
      "text/plain": [
       "(18383, 6)"
      ]
     },
     "execution_count": 3,
     "metadata": {},
     "output_type": "execute_result"
    }
   ],
   "source": [
    "ab = pd.read_csv(r\"/Users/ruveyda/Desktop/project_python/Pandas-Data-Science-Tasks-master/SalesAnalysis/Sales_Data/Sales_April_2019.csv\")\n",
    "ab.head()\n",
    "ab.shape"
   ]
  },
  {
   "cell_type": "code",
   "execution_count": 5,
   "id": "b8df07f4-52b9-42d1-beda-781be0790065",
   "metadata": {},
   "outputs": [],
   "source": [
    "import glob"
   ]
  },
  {
   "cell_type": "code",
   "execution_count": 7,
   "id": "a705cf71-be02-4a60-bb84-11d37e8a48d2",
   "metadata": {},
   "outputs": [
    {
     "data": {
      "text/plain": [
       "['/Users/ruveyda/Desktop/project_python/Pandas-Data-Science-Tasks-master/SalesAnalysis/Sales_Data/Sales_December_2019.csv',\n",
       " '/Users/ruveyda/Desktop/project_python/Pandas-Data-Science-Tasks-master/SalesAnalysis/Sales_Data/Sales_April_2019.csv',\n",
       " '/Users/ruveyda/Desktop/project_python/Pandas-Data-Science-Tasks-master/SalesAnalysis/Sales_Data/Sales_February_2019.csv',\n",
       " '/Users/ruveyda/Desktop/project_python/Pandas-Data-Science-Tasks-master/SalesAnalysis/Sales_Data/Sales_March_2019.csv',\n",
       " '/Users/ruveyda/Desktop/project_python/Pandas-Data-Science-Tasks-master/SalesAnalysis/Sales_Data/Sales_August_2019.csv',\n",
       " '/Users/ruveyda/Desktop/project_python/Pandas-Data-Science-Tasks-master/SalesAnalysis/Sales_Data/Sales_May_2019.csv',\n",
       " '/Users/ruveyda/Desktop/project_python/Pandas-Data-Science-Tasks-master/SalesAnalysis/Sales_Data/Sales_November_2019.csv',\n",
       " '/Users/ruveyda/Desktop/project_python/Pandas-Data-Science-Tasks-master/SalesAnalysis/Sales_Data/Sales_October_2019.csv',\n",
       " '/Users/ruveyda/Desktop/project_python/Pandas-Data-Science-Tasks-master/SalesAnalysis/Sales_Data/Sales_January_2019.csv',\n",
       " '/Users/ruveyda/Desktop/project_python/Pandas-Data-Science-Tasks-master/SalesAnalysis/Sales_Data/Sales_September_2019.csv',\n",
       " '/Users/ruveyda/Desktop/project_python/Pandas-Data-Science-Tasks-master/SalesAnalysis/Sales_Data/Sales_July_2019.csv',\n",
       " '/Users/ruveyda/Desktop/project_python/Pandas-Data-Science-Tasks-master/SalesAnalysis/Sales_Data/Sales_June_2019.csv']"
      ]
     },
     "execution_count": 7,
     "metadata": {},
     "output_type": "execute_result"
    }
   ],
   "source": [
    "csv_dosyaları = glob.glob(\"/Users/ruveyda/Desktop/project_python/Pandas-Data-Science-Tasks-master/SalesAnalysis/Sales_Data/*.csv\")\n",
    "csv_dosyaları"
   ]
  },
  {
   "cell_type": "code",
   "execution_count": 9,
   "id": "ce392558-6c08-40a6-bca8-22c7fee47346",
   "metadata": {},
   "outputs": [],
   "source": [
    "df_liste = [] "
   ]
  },
  {
   "cell_type": "code",
   "execution_count": 11,
   "id": "99005e9d-feb3-4feb-8c13-d13a9e21ffdd",
   "metadata": {},
   "outputs": [],
   "source": [
    "for file in csv_dosyaları:\n",
    "    df = pd.read_csv(file)\n",
    "    df_liste.append(df)\n"
   ]
  },
  {
   "cell_type": "code",
   "execution_count": 13,
   "id": "6a020738-e656-43ae-89e5-6bb642a24056",
   "metadata": {},
   "outputs": [],
   "source": [
    "df = pd.concat(df_liste, ignore_index = True)"
   ]
  },
  {
   "cell_type": "code",
   "execution_count": 15,
   "id": "f569dc4d-c54c-4cee-aeb2-5ec17a58449c",
   "metadata": {},
   "outputs": [],
   "source": [
    "df.to_csv(\"birlesik_dosya.csv\", index = False)"
   ]
  },
  {
   "cell_type": "code",
   "execution_count": 17,
   "id": "fe13c13d-b105-47ed-8e6a-df4c1db5693f",
   "metadata": {},
   "outputs": [
    {
     "data": {
      "text/plain": [
       "(186850, 6)"
      ]
     },
     "execution_count": 17,
     "metadata": {},
     "output_type": "execute_result"
    }
   ],
   "source": [
    "df.shape"
   ]
  },
  {
   "cell_type": "code",
   "execution_count": 19,
   "id": "67b73cef-402f-4674-8f38-b5a8b5ee54a7",
   "metadata": {},
   "outputs": [],
   "source": [
    "df = pd.read_csv(r\"/Users/ruveyda/Desktop/project_python/Pandas-Data-Science-Tasks-master/SalesAnalysis/birlesik_dosya.csv\")"
   ]
  },
  {
   "cell_type": "code",
   "execution_count": 21,
   "id": "8a9c11e9-ef24-4288-b67c-81591b5fc444",
   "metadata": {},
   "outputs": [
    {
     "data": {
      "text/html": [
       "<div>\n",
       "<style scoped>\n",
       "    .dataframe tbody tr th:only-of-type {\n",
       "        vertical-align: middle;\n",
       "    }\n",
       "\n",
       "    .dataframe tbody tr th {\n",
       "        vertical-align: top;\n",
       "    }\n",
       "\n",
       "    .dataframe thead th {\n",
       "        text-align: right;\n",
       "    }\n",
       "</style>\n",
       "<table border=\"1\" class=\"dataframe\">\n",
       "  <thead>\n",
       "    <tr style=\"text-align: right;\">\n",
       "      <th></th>\n",
       "      <th>Order ID</th>\n",
       "      <th>Product</th>\n",
       "      <th>Quantity Ordered</th>\n",
       "      <th>Price Each</th>\n",
       "      <th>Order Date</th>\n",
       "      <th>Purchase Address</th>\n",
       "    </tr>\n",
       "  </thead>\n",
       "  <tbody>\n",
       "    <tr>\n",
       "      <th>0</th>\n",
       "      <td>295665</td>\n",
       "      <td>Macbook Pro Laptop</td>\n",
       "      <td>1</td>\n",
       "      <td>1700</td>\n",
       "      <td>12/30/19 00:01</td>\n",
       "      <td>136 Church St, New York City, NY 10001</td>\n",
       "    </tr>\n",
       "    <tr>\n",
       "      <th>1</th>\n",
       "      <td>295666</td>\n",
       "      <td>LG Washing Machine</td>\n",
       "      <td>1</td>\n",
       "      <td>600.0</td>\n",
       "      <td>12/29/19 07:03</td>\n",
       "      <td>562 2nd St, New York City, NY 10001</td>\n",
       "    </tr>\n",
       "    <tr>\n",
       "      <th>2</th>\n",
       "      <td>295667</td>\n",
       "      <td>USB-C Charging Cable</td>\n",
       "      <td>1</td>\n",
       "      <td>11.95</td>\n",
       "      <td>12/12/19 18:21</td>\n",
       "      <td>277 Main St, New York City, NY 10001</td>\n",
       "    </tr>\n",
       "    <tr>\n",
       "      <th>3</th>\n",
       "      <td>295668</td>\n",
       "      <td>27in FHD Monitor</td>\n",
       "      <td>1</td>\n",
       "      <td>149.99</td>\n",
       "      <td>12/22/19 15:13</td>\n",
       "      <td>410 6th St, San Francisco, CA 94016</td>\n",
       "    </tr>\n",
       "    <tr>\n",
       "      <th>4</th>\n",
       "      <td>295669</td>\n",
       "      <td>USB-C Charging Cable</td>\n",
       "      <td>1</td>\n",
       "      <td>11.95</td>\n",
       "      <td>12/18/19 12:38</td>\n",
       "      <td>43 Hill St, Atlanta, GA 30301</td>\n",
       "    </tr>\n",
       "  </tbody>\n",
       "</table>\n",
       "</div>"
      ],
      "text/plain": [
       "  Order ID               Product Quantity Ordered Price Each      Order Date  \\\n",
       "0   295665    Macbook Pro Laptop                1       1700  12/30/19 00:01   \n",
       "1   295666    LG Washing Machine                1      600.0  12/29/19 07:03   \n",
       "2   295667  USB-C Charging Cable                1      11.95  12/12/19 18:21   \n",
       "3   295668      27in FHD Monitor                1     149.99  12/22/19 15:13   \n",
       "4   295669  USB-C Charging Cable                1      11.95  12/18/19 12:38   \n",
       "\n",
       "                         Purchase Address  \n",
       "0  136 Church St, New York City, NY 10001  \n",
       "1     562 2nd St, New York City, NY 10001  \n",
       "2    277 Main St, New York City, NY 10001  \n",
       "3     410 6th St, San Francisco, CA 94016  \n",
       "4           43 Hill St, Atlanta, GA 30301  "
      ]
     },
     "execution_count": 21,
     "metadata": {},
     "output_type": "execute_result"
    }
   ],
   "source": [
    "df.head()"
   ]
  },
  {
   "cell_type": "code",
   "execution_count": null,
   "id": "05f47ad3-bbc8-4132-a889-8625caffdc72",
   "metadata": {},
   "outputs": [],
   "source": []
  },
  {
   "cell_type": "markdown",
   "id": "cc920e66-4521-45a7-be2a-9c9adc03cfd9",
   "metadata": {},
   "source": [
    "### Clean up the data"
   ]
  },
  {
   "cell_type": "code",
   "execution_count": 23,
   "id": "de59e3e0-90b4-4d17-890d-a6a6514603a4",
   "metadata": {},
   "outputs": [],
   "source": [
    "df_na = df[df.isna().any(axis = 1)]"
   ]
  },
  {
   "cell_type": "code",
   "execution_count": 25,
   "id": "cd479348-38e4-4ebe-a464-bd83277c7b0c",
   "metadata": {
    "scrolled": true
   },
   "outputs": [
    {
     "data": {
      "text/html": [
       "<div>\n",
       "<style scoped>\n",
       "    .dataframe tbody tr th:only-of-type {\n",
       "        vertical-align: middle;\n",
       "    }\n",
       "\n",
       "    .dataframe tbody tr th {\n",
       "        vertical-align: top;\n",
       "    }\n",
       "\n",
       "    .dataframe thead th {\n",
       "        text-align: right;\n",
       "    }\n",
       "</style>\n",
       "<table border=\"1\" class=\"dataframe\">\n",
       "  <thead>\n",
       "    <tr style=\"text-align: right;\">\n",
       "      <th></th>\n",
       "      <th>Order ID</th>\n",
       "      <th>Product</th>\n",
       "      <th>Quantity Ordered</th>\n",
       "      <th>Price Each</th>\n",
       "      <th>Order Date</th>\n",
       "      <th>Purchase Address</th>\n",
       "    </tr>\n",
       "  </thead>\n",
       "  <tbody>\n",
       "    <tr>\n",
       "      <th>264</th>\n",
       "      <td>NaN</td>\n",
       "      <td>NaN</td>\n",
       "      <td>NaN</td>\n",
       "      <td>NaN</td>\n",
       "      <td>NaN</td>\n",
       "      <td>NaN</td>\n",
       "    </tr>\n",
       "    <tr>\n",
       "      <th>648</th>\n",
       "      <td>NaN</td>\n",
       "      <td>NaN</td>\n",
       "      <td>NaN</td>\n",
       "      <td>NaN</td>\n",
       "      <td>NaN</td>\n",
       "      <td>NaN</td>\n",
       "    </tr>\n",
       "    <tr>\n",
       "      <th>680</th>\n",
       "      <td>NaN</td>\n",
       "      <td>NaN</td>\n",
       "      <td>NaN</td>\n",
       "      <td>NaN</td>\n",
       "      <td>NaN</td>\n",
       "      <td>NaN</td>\n",
       "    </tr>\n",
       "    <tr>\n",
       "      <th>1385</th>\n",
       "      <td>NaN</td>\n",
       "      <td>NaN</td>\n",
       "      <td>NaN</td>\n",
       "      <td>NaN</td>\n",
       "      <td>NaN</td>\n",
       "      <td>NaN</td>\n",
       "    </tr>\n",
       "    <tr>\n",
       "      <th>1495</th>\n",
       "      <td>NaN</td>\n",
       "      <td>NaN</td>\n",
       "      <td>NaN</td>\n",
       "      <td>NaN</td>\n",
       "      <td>NaN</td>\n",
       "      <td>NaN</td>\n",
       "    </tr>\n",
       "    <tr>\n",
       "      <th>...</th>\n",
       "      <td>...</td>\n",
       "      <td>...</td>\n",
       "      <td>...</td>\n",
       "      <td>...</td>\n",
       "      <td>...</td>\n",
       "      <td>...</td>\n",
       "    </tr>\n",
       "    <tr>\n",
       "      <th>185795</th>\n",
       "      <td>NaN</td>\n",
       "      <td>NaN</td>\n",
       "      <td>NaN</td>\n",
       "      <td>NaN</td>\n",
       "      <td>NaN</td>\n",
       "      <td>NaN</td>\n",
       "    </tr>\n",
       "    <tr>\n",
       "      <th>185868</th>\n",
       "      <td>NaN</td>\n",
       "      <td>NaN</td>\n",
       "      <td>NaN</td>\n",
       "      <td>NaN</td>\n",
       "      <td>NaN</td>\n",
       "      <td>NaN</td>\n",
       "    </tr>\n",
       "    <tr>\n",
       "      <th>185887</th>\n",
       "      <td>NaN</td>\n",
       "      <td>NaN</td>\n",
       "      <td>NaN</td>\n",
       "      <td>NaN</td>\n",
       "      <td>NaN</td>\n",
       "      <td>NaN</td>\n",
       "    </tr>\n",
       "    <tr>\n",
       "      <th>185960</th>\n",
       "      <td>NaN</td>\n",
       "      <td>NaN</td>\n",
       "      <td>NaN</td>\n",
       "      <td>NaN</td>\n",
       "      <td>NaN</td>\n",
       "      <td>NaN</td>\n",
       "    </tr>\n",
       "    <tr>\n",
       "      <th>186580</th>\n",
       "      <td>NaN</td>\n",
       "      <td>NaN</td>\n",
       "      <td>NaN</td>\n",
       "      <td>NaN</td>\n",
       "      <td>NaN</td>\n",
       "      <td>NaN</td>\n",
       "    </tr>\n",
       "  </tbody>\n",
       "</table>\n",
       "<p>545 rows × 6 columns</p>\n",
       "</div>"
      ],
      "text/plain": [
       "       Order ID Product Quantity Ordered Price Each Order Date  \\\n",
       "264         NaN     NaN              NaN        NaN        NaN   \n",
       "648         NaN     NaN              NaN        NaN        NaN   \n",
       "680         NaN     NaN              NaN        NaN        NaN   \n",
       "1385        NaN     NaN              NaN        NaN        NaN   \n",
       "1495        NaN     NaN              NaN        NaN        NaN   \n",
       "...         ...     ...              ...        ...        ...   \n",
       "185795      NaN     NaN              NaN        NaN        NaN   \n",
       "185868      NaN     NaN              NaN        NaN        NaN   \n",
       "185887      NaN     NaN              NaN        NaN        NaN   \n",
       "185960      NaN     NaN              NaN        NaN        NaN   \n",
       "186580      NaN     NaN              NaN        NaN        NaN   \n",
       "\n",
       "       Purchase Address  \n",
       "264                 NaN  \n",
       "648                 NaN  \n",
       "680                 NaN  \n",
       "1385                NaN  \n",
       "1495                NaN  \n",
       "...                 ...  \n",
       "185795              NaN  \n",
       "185868              NaN  \n",
       "185887              NaN  \n",
       "185960              NaN  \n",
       "186580              NaN  \n",
       "\n",
       "[545 rows x 6 columns]"
      ]
     },
     "execution_count": 25,
     "metadata": {},
     "output_type": "execute_result"
    }
   ],
   "source": [
    "df_na"
   ]
  },
  {
   "cell_type": "code",
   "execution_count": 27,
   "id": "d3ea492c-a326-4ffe-b18a-00d275070010",
   "metadata": {},
   "outputs": [],
   "source": [
    "df = df.dropna(how = 'all')"
   ]
  },
  {
   "cell_type": "code",
   "execution_count": 29,
   "id": "78f99ffc-9998-4eb6-8591-08b3c9656b77",
   "metadata": {},
   "outputs": [
    {
     "data": {
      "text/html": [
       "<div>\n",
       "<style scoped>\n",
       "    .dataframe tbody tr th:only-of-type {\n",
       "        vertical-align: middle;\n",
       "    }\n",
       "\n",
       "    .dataframe tbody tr th {\n",
       "        vertical-align: top;\n",
       "    }\n",
       "\n",
       "    .dataframe thead th {\n",
       "        text-align: right;\n",
       "    }\n",
       "</style>\n",
       "<table border=\"1\" class=\"dataframe\">\n",
       "  <thead>\n",
       "    <tr style=\"text-align: right;\">\n",
       "      <th></th>\n",
       "      <th>Order ID</th>\n",
       "      <th>Product</th>\n",
       "      <th>Quantity Ordered</th>\n",
       "      <th>Price Each</th>\n",
       "      <th>Order Date</th>\n",
       "      <th>Purchase Address</th>\n",
       "    </tr>\n",
       "  </thead>\n",
       "  <tbody>\n",
       "    <tr>\n",
       "      <th>0</th>\n",
       "      <td>295665</td>\n",
       "      <td>Macbook Pro Laptop</td>\n",
       "      <td>1</td>\n",
       "      <td>1700</td>\n",
       "      <td>12/30/19 00:01</td>\n",
       "      <td>136 Church St, New York City, NY 10001</td>\n",
       "    </tr>\n",
       "    <tr>\n",
       "      <th>1</th>\n",
       "      <td>295666</td>\n",
       "      <td>LG Washing Machine</td>\n",
       "      <td>1</td>\n",
       "      <td>600.0</td>\n",
       "      <td>12/29/19 07:03</td>\n",
       "      <td>562 2nd St, New York City, NY 10001</td>\n",
       "    </tr>\n",
       "    <tr>\n",
       "      <th>2</th>\n",
       "      <td>295667</td>\n",
       "      <td>USB-C Charging Cable</td>\n",
       "      <td>1</td>\n",
       "      <td>11.95</td>\n",
       "      <td>12/12/19 18:21</td>\n",
       "      <td>277 Main St, New York City, NY 10001</td>\n",
       "    </tr>\n",
       "    <tr>\n",
       "      <th>3</th>\n",
       "      <td>295668</td>\n",
       "      <td>27in FHD Monitor</td>\n",
       "      <td>1</td>\n",
       "      <td>149.99</td>\n",
       "      <td>12/22/19 15:13</td>\n",
       "      <td>410 6th St, San Francisco, CA 94016</td>\n",
       "    </tr>\n",
       "    <tr>\n",
       "      <th>4</th>\n",
       "      <td>295669</td>\n",
       "      <td>USB-C Charging Cable</td>\n",
       "      <td>1</td>\n",
       "      <td>11.95</td>\n",
       "      <td>12/18/19 12:38</td>\n",
       "      <td>43 Hill St, Atlanta, GA 30301</td>\n",
       "    </tr>\n",
       "  </tbody>\n",
       "</table>\n",
       "</div>"
      ],
      "text/plain": [
       "  Order ID               Product Quantity Ordered Price Each      Order Date  \\\n",
       "0   295665    Macbook Pro Laptop                1       1700  12/30/19 00:01   \n",
       "1   295666    LG Washing Machine                1      600.0  12/29/19 07:03   \n",
       "2   295667  USB-C Charging Cable                1      11.95  12/12/19 18:21   \n",
       "3   295668      27in FHD Monitor                1     149.99  12/22/19 15:13   \n",
       "4   295669  USB-C Charging Cable                1      11.95  12/18/19 12:38   \n",
       "\n",
       "                         Purchase Address  \n",
       "0  136 Church St, New York City, NY 10001  \n",
       "1     562 2nd St, New York City, NY 10001  \n",
       "2    277 Main St, New York City, NY 10001  \n",
       "3     410 6th St, San Francisco, CA 94016  \n",
       "4           43 Hill St, Atlanta, GA 30301  "
      ]
     },
     "execution_count": 29,
     "metadata": {},
     "output_type": "execute_result"
    }
   ],
   "source": [
    "df.head()"
   ]
  },
  {
   "cell_type": "markdown",
   "id": "7bee364c-4e10-40e0-9ec5-78a861f6edd2",
   "metadata": {},
   "source": [
    "#### Removing duplicates header rows"
   ]
  },
  {
   "cell_type": "code",
   "execution_count": 31,
   "id": "03799f28-ad13-4c56-8141-5d91f977b99d",
   "metadata": {
    "scrolled": true
   },
   "outputs": [
    {
     "data": {
      "text/html": [
       "<div>\n",
       "<style scoped>\n",
       "    .dataframe tbody tr th:only-of-type {\n",
       "        vertical-align: middle;\n",
       "    }\n",
       "\n",
       "    .dataframe tbody tr th {\n",
       "        vertical-align: top;\n",
       "    }\n",
       "\n",
       "    .dataframe thead th {\n",
       "        text-align: right;\n",
       "    }\n",
       "</style>\n",
       "<table border=\"1\" class=\"dataframe\">\n",
       "  <thead>\n",
       "    <tr style=\"text-align: right;\">\n",
       "      <th></th>\n",
       "      <th>Order ID</th>\n",
       "      <th>Product</th>\n",
       "      <th>Quantity Ordered</th>\n",
       "      <th>Price Each</th>\n",
       "      <th>Order Date</th>\n",
       "      <th>Purchase Address</th>\n",
       "    </tr>\n",
       "  </thead>\n",
       "  <tbody>\n",
       "    <tr>\n",
       "      <th>254</th>\n",
       "      <td>Order ID</td>\n",
       "      <td>Product</td>\n",
       "      <td>Quantity Ordered</td>\n",
       "      <td>Price Each</td>\n",
       "      <td>Order Date</td>\n",
       "      <td>Purchase Address</td>\n",
       "    </tr>\n",
       "    <tr>\n",
       "      <th>705</th>\n",
       "      <td>Order ID</td>\n",
       "      <td>Product</td>\n",
       "      <td>Quantity Ordered</td>\n",
       "      <td>Price Each</td>\n",
       "      <td>Order Date</td>\n",
       "      <td>Purchase Address</td>\n",
       "    </tr>\n",
       "    <tr>\n",
       "      <th>1101</th>\n",
       "      <td>Order ID</td>\n",
       "      <td>Product</td>\n",
       "      <td>Quantity Ordered</td>\n",
       "      <td>Price Each</td>\n",
       "      <td>Order Date</td>\n",
       "      <td>Purchase Address</td>\n",
       "    </tr>\n",
       "    <tr>\n",
       "      <th>2875</th>\n",
       "      <td>Order ID</td>\n",
       "      <td>Product</td>\n",
       "      <td>Quantity Ordered</td>\n",
       "      <td>Price Each</td>\n",
       "      <td>Order Date</td>\n",
       "      <td>Purchase Address</td>\n",
       "    </tr>\n",
       "    <tr>\n",
       "      <th>3708</th>\n",
       "      <td>Order ID</td>\n",
       "      <td>Product</td>\n",
       "      <td>Quantity Ordered</td>\n",
       "      <td>Price Each</td>\n",
       "      <td>Order Date</td>\n",
       "      <td>Purchase Address</td>\n",
       "    </tr>\n",
       "    <tr>\n",
       "      <th>...</th>\n",
       "      <td>...</td>\n",
       "      <td>...</td>\n",
       "      <td>...</td>\n",
       "      <td>...</td>\n",
       "      <td>...</td>\n",
       "      <td>...</td>\n",
       "    </tr>\n",
       "    <tr>\n",
       "      <th>183671</th>\n",
       "      <td>Order ID</td>\n",
       "      <td>Product</td>\n",
       "      <td>Quantity Ordered</td>\n",
       "      <td>Price Each</td>\n",
       "      <td>Order Date</td>\n",
       "      <td>Purchase Address</td>\n",
       "    </tr>\n",
       "    <tr>\n",
       "      <th>184012</th>\n",
       "      <td>Order ID</td>\n",
       "      <td>Product</td>\n",
       "      <td>Quantity Ordered</td>\n",
       "      <td>Price Each</td>\n",
       "      <td>Order Date</td>\n",
       "      <td>Purchase Address</td>\n",
       "    </tr>\n",
       "    <tr>\n",
       "      <th>184041</th>\n",
       "      <td>Order ID</td>\n",
       "      <td>Product</td>\n",
       "      <td>Quantity Ordered</td>\n",
       "      <td>Price Each</td>\n",
       "      <td>Order Date</td>\n",
       "      <td>Purchase Address</td>\n",
       "    </tr>\n",
       "    <tr>\n",
       "      <th>184275</th>\n",
       "      <td>Order ID</td>\n",
       "      <td>Product</td>\n",
       "      <td>Quantity Ordered</td>\n",
       "      <td>Price Each</td>\n",
       "      <td>Order Date</td>\n",
       "      <td>Purchase Address</td>\n",
       "    </tr>\n",
       "    <tr>\n",
       "      <th>186532</th>\n",
       "      <td>Order ID</td>\n",
       "      <td>Product</td>\n",
       "      <td>Quantity Ordered</td>\n",
       "      <td>Price Each</td>\n",
       "      <td>Order Date</td>\n",
       "      <td>Purchase Address</td>\n",
       "    </tr>\n",
       "  </tbody>\n",
       "</table>\n",
       "<p>355 rows × 6 columns</p>\n",
       "</div>"
      ],
      "text/plain": [
       "        Order ID  Product  Quantity Ordered  Price Each  Order Date  \\\n",
       "254     Order ID  Product  Quantity Ordered  Price Each  Order Date   \n",
       "705     Order ID  Product  Quantity Ordered  Price Each  Order Date   \n",
       "1101    Order ID  Product  Quantity Ordered  Price Each  Order Date   \n",
       "2875    Order ID  Product  Quantity Ordered  Price Each  Order Date   \n",
       "3708    Order ID  Product  Quantity Ordered  Price Each  Order Date   \n",
       "...          ...      ...               ...         ...         ...   \n",
       "183671  Order ID  Product  Quantity Ordered  Price Each  Order Date   \n",
       "184012  Order ID  Product  Quantity Ordered  Price Each  Order Date   \n",
       "184041  Order ID  Product  Quantity Ordered  Price Each  Order Date   \n",
       "184275  Order ID  Product  Quantity Ordered  Price Each  Order Date   \n",
       "186532  Order ID  Product  Quantity Ordered  Price Each  Order Date   \n",
       "\n",
       "        Purchase Address  \n",
       "254     Purchase Address  \n",
       "705     Purchase Address  \n",
       "1101    Purchase Address  \n",
       "2875    Purchase Address  \n",
       "3708    Purchase Address  \n",
       "...                  ...  \n",
       "183671  Purchase Address  \n",
       "184012  Purchase Address  \n",
       "184041  Purchase Address  \n",
       "184275  Purchase Address  \n",
       "186532  Purchase Address  \n",
       "\n",
       "[355 rows x 6 columns]"
      ]
     },
     "execution_count": 31,
     "metadata": {},
     "output_type": "execute_result"
    }
   ],
   "source": [
    "df_temp = df[df[\"Order Date\"].str[0:2] == \"Or\"]\n",
    "df_temp"
   ]
  },
  {
   "cell_type": "code",
   "execution_count": 33,
   "id": "f1b2a014-db5c-4449-bdbf-1ea587f36d6c",
   "metadata": {},
   "outputs": [],
   "source": [
    "df = df[df[\"Order Date\"].str[0:2] != \"Or\"]"
   ]
  },
  {
   "cell_type": "markdown",
   "id": "b82f3eb8-c509-4156-a0ab-e38326872982",
   "metadata": {},
   "source": [
    "#### Convert the data type "
   ]
  },
  {
   "cell_type": "code",
   "execution_count": 35,
   "id": "76701b0f-1eb7-4986-8e24-a3213c9261a1",
   "metadata": {},
   "outputs": [],
   "source": [
    "df[\"Quantity Ordered\"] = pd.to_numeric(df[\"Quantity Ordered\"])"
   ]
  },
  {
   "cell_type": "code",
   "execution_count": 37,
   "id": "b46929f6-6366-4969-b6cf-c49ab2d08ab9",
   "metadata": {},
   "outputs": [],
   "source": [
    "df[\"Price Each\"] = pd.to_numeric(df[\"Price Each\"])"
   ]
  },
  {
   "cell_type": "code",
   "execution_count": null,
   "id": "b324296a-3aec-4915-bef0-de9da9478d86",
   "metadata": {},
   "outputs": [],
   "source": [
    "df[\"Order Date\"] = pd.to_datetime(df[\"Order Date\"])"
   ]
  },
  {
   "cell_type": "markdown",
   "id": "e31cae54-12c3-411d-a794-d88308dbbf9f",
   "metadata": {},
   "source": [
    "### Creating new column"
   ]
  },
  {
   "cell_type": "code",
   "execution_count": 39,
   "id": "043c9353-bf12-4eb7-8f05-5378aee188af",
   "metadata": {},
   "outputs": [],
   "source": [
    "df[\"Month\"] = df[\"Order Date\"].str.split('/').str.get(0)\n"
   ]
  },
  {
   "cell_type": "code",
   "execution_count": 41,
   "id": "1ee2319c-22a3-4d2d-a001-af703ed9a574",
   "metadata": {},
   "outputs": [
    {
     "data": {
      "text/plain": [
       "Order ID             object\n",
       "Product              object\n",
       "Quantity Ordered      int64\n",
       "Price Each          float64\n",
       "Order Date           object\n",
       "Purchase Address     object\n",
       "Month                object\n",
       "dtype: object"
      ]
     },
     "execution_count": 41,
     "metadata": {},
     "output_type": "execute_result"
    }
   ],
   "source": [
    "df.dtypes"
   ]
  },
  {
   "cell_type": "code",
   "execution_count": 43,
   "id": "c0b3864a-e7aa-4142-974f-0a43a5f93f61",
   "metadata": {},
   "outputs": [],
   "source": [
    "df[\"Month\"] = df[\"Month\"].astype(\"int32\")"
   ]
  },
  {
   "cell_type": "markdown",
   "id": "b4c6d2d7-551f-47a3-8fb9-6d9c1fea246f",
   "metadata": {},
   "source": [
    "#### Add sales column"
   ]
  },
  {
   "cell_type": "code",
   "execution_count": 45,
   "id": "27a96edb-b4fa-4a76-a000-bed2e7099233",
   "metadata": {},
   "outputs": [],
   "source": [
    "df[\"Sales\"] = df[\"Quantity Ordered\"] * df[\"Price Each\"]"
   ]
  },
  {
   "cell_type": "code",
   "execution_count": 47,
   "id": "f4aecf2f-6392-4a09-882f-028c29178283",
   "metadata": {},
   "outputs": [
    {
     "data": {
      "text/html": [
       "<div>\n",
       "<style scoped>\n",
       "    .dataframe tbody tr th:only-of-type {\n",
       "        vertical-align: middle;\n",
       "    }\n",
       "\n",
       "    .dataframe tbody tr th {\n",
       "        vertical-align: top;\n",
       "    }\n",
       "\n",
       "    .dataframe thead th {\n",
       "        text-align: right;\n",
       "    }\n",
       "</style>\n",
       "<table border=\"1\" class=\"dataframe\">\n",
       "  <thead>\n",
       "    <tr style=\"text-align: right;\">\n",
       "      <th></th>\n",
       "      <th>Order ID</th>\n",
       "      <th>Product</th>\n",
       "      <th>Quantity Ordered</th>\n",
       "      <th>Price Each</th>\n",
       "      <th>Order Date</th>\n",
       "      <th>Purchase Address</th>\n",
       "      <th>Month</th>\n",
       "      <th>Sales</th>\n",
       "    </tr>\n",
       "  </thead>\n",
       "  <tbody>\n",
       "    <tr>\n",
       "      <th>0</th>\n",
       "      <td>295665</td>\n",
       "      <td>Macbook Pro Laptop</td>\n",
       "      <td>1</td>\n",
       "      <td>1700.00</td>\n",
       "      <td>12/30/19 00:01</td>\n",
       "      <td>136 Church St, New York City, NY 10001</td>\n",
       "      <td>12</td>\n",
       "      <td>1700.00</td>\n",
       "    </tr>\n",
       "    <tr>\n",
       "      <th>1</th>\n",
       "      <td>295666</td>\n",
       "      <td>LG Washing Machine</td>\n",
       "      <td>1</td>\n",
       "      <td>600.00</td>\n",
       "      <td>12/29/19 07:03</td>\n",
       "      <td>562 2nd St, New York City, NY 10001</td>\n",
       "      <td>12</td>\n",
       "      <td>600.00</td>\n",
       "    </tr>\n",
       "    <tr>\n",
       "      <th>2</th>\n",
       "      <td>295667</td>\n",
       "      <td>USB-C Charging Cable</td>\n",
       "      <td>1</td>\n",
       "      <td>11.95</td>\n",
       "      <td>12/12/19 18:21</td>\n",
       "      <td>277 Main St, New York City, NY 10001</td>\n",
       "      <td>12</td>\n",
       "      <td>11.95</td>\n",
       "    </tr>\n",
       "    <tr>\n",
       "      <th>3</th>\n",
       "      <td>295668</td>\n",
       "      <td>27in FHD Monitor</td>\n",
       "      <td>1</td>\n",
       "      <td>149.99</td>\n",
       "      <td>12/22/19 15:13</td>\n",
       "      <td>410 6th St, San Francisco, CA 94016</td>\n",
       "      <td>12</td>\n",
       "      <td>149.99</td>\n",
       "    </tr>\n",
       "    <tr>\n",
       "      <th>4</th>\n",
       "      <td>295669</td>\n",
       "      <td>USB-C Charging Cable</td>\n",
       "      <td>1</td>\n",
       "      <td>11.95</td>\n",
       "      <td>12/18/19 12:38</td>\n",
       "      <td>43 Hill St, Atlanta, GA 30301</td>\n",
       "      <td>12</td>\n",
       "      <td>11.95</td>\n",
       "    </tr>\n",
       "  </tbody>\n",
       "</table>\n",
       "</div>"
      ],
      "text/plain": [
       "  Order ID               Product  Quantity Ordered  Price Each  \\\n",
       "0   295665    Macbook Pro Laptop                 1     1700.00   \n",
       "1   295666    LG Washing Machine                 1      600.00   \n",
       "2   295667  USB-C Charging Cable                 1       11.95   \n",
       "3   295668      27in FHD Monitor                 1      149.99   \n",
       "4   295669  USB-C Charging Cable                 1       11.95   \n",
       "\n",
       "       Order Date                        Purchase Address  Month    Sales  \n",
       "0  12/30/19 00:01  136 Church St, New York City, NY 10001     12  1700.00  \n",
       "1  12/29/19 07:03     562 2nd St, New York City, NY 10001     12   600.00  \n",
       "2  12/12/19 18:21    277 Main St, New York City, NY 10001     12    11.95  \n",
       "3  12/22/19 15:13     410 6th St, San Francisco, CA 94016     12   149.99  \n",
       "4  12/18/19 12:38           43 Hill St, Atlanta, GA 30301     12    11.95  "
      ]
     },
     "execution_count": 47,
     "metadata": {},
     "output_type": "execute_result"
    }
   ],
   "source": [
    "df.head()"
   ]
  },
  {
   "cell_type": "markdown",
   "id": "65130a4a-f578-4933-894f-faaefdd1417d",
   "metadata": {},
   "source": [
    "#### Q1: What was the best month for sales? How much was earned that month?"
   ]
  },
  {
   "cell_type": "code",
   "execution_count": 49,
   "id": "be4138b1-1167-4f18-8a9d-15603e726930",
   "metadata": {},
   "outputs": [
    {
     "data": {
      "text/plain": [
       "Month\n",
       "12    4613443.34\n",
       "10    3736726.88\n",
       "4     3390670.24\n",
       "11    3199603.20\n",
       "5     3152606.75\n",
       "3     2807100.38\n",
       "7     2647775.76\n",
       "6     2577802.26\n",
       "8     2244467.88\n",
       "2     2202022.42\n",
       "9     2097560.13\n",
       "1     1822256.73\n",
       "Name: Sales, dtype: float64"
      ]
     },
     "execution_count": 49,
     "metadata": {},
     "output_type": "execute_result"
    }
   ],
   "source": [
    "df.groupby(\"Month\")[\"Sales\"].sum().sort_values(ascending = False)"
   ]
  },
  {
   "cell_type": "code",
   "execution_count": 51,
   "id": "bbf136b3-0f20-4d20-a13b-c4b5d1b573be",
   "metadata": {},
   "outputs": [
    {
     "data": {
      "image/png": "[encoded data removed]",
      "text/plain": [
       "<Figure size 640x480 with 1 Axes>"
      ]
     },
     "metadata": {},
     "output_type": "display_data"
    }
   ],
   "source": [
    "import matplotlib.pyplot as plt\n",
    "results = df.groupby(\"Month\")[\"Sales\"].sum()\n",
    "\n",
    "plt.bar(results.index, results.values)\n",
    "plt.xticks(results.index)\n",
    "plt.xlabel(\"Months\")\n",
    "plt.ylabel(\"Sales\")\n",
    "plt.title(\"Determination of the Best Selling Month\")\n",
    "plt.show()"
   ]
  },
  {
   "cell_type": "markdown",
   "id": "2814dea8-08fa-4222-a46f-b8f8dabc4383",
   "metadata": {},
   "source": [
    "#### Q2: What city had the highest number of sales? "
   ]
  },
  {
   "cell_type": "code",
   "execution_count": 73,
   "id": "cc75f67d-7b60-44d6-ac5d-75369c11b278",
   "metadata": {},
   "outputs": [],
   "source": [
    "df[\"City\"] = df[\"Purchase Address\"].str.split(',').str.get(1)"
   ]
  },
  {
   "cell_type": "code",
   "execution_count": 77,
   "id": "9ed987d3-de1d-43ba-a02f-ca294e69d3c9",
   "metadata": {},
   "outputs": [
    {
     "data": {
      "text/plain": [
       "City\n",
       "San Francisco    8262203.91\n",
       "Los Angeles      5452570.80\n",
       "New York City    4664317.43\n",
       "Boston           3661642.01\n",
       "Atlanta          2795498.58\n",
       "Dallas           2767975.40\n",
       "Seattle          2747755.48\n",
       "Portland         2320490.61\n",
       "Austin           1819581.75\n",
       "Name: Sales, dtype: float64"
      ]
     },
     "execution_count": 77,
     "metadata": {},
     "output_type": "execute_result"
    }
   ],
   "source": [
    "df.groupby(\"City\")[\"Sales\"].sum().sort_values(ascending = False)"
   ]
  },
  {
   "cell_type": "code",
   "execution_count": 93,
   "id": "6901ba99-d15d-4979-8922-04ee19904b4e",
   "metadata": {},
   "outputs": [
    {
     "data": {
      "text/plain": [
       "Text(0.5, 1.0, 'Sales based on Cities')"
      ]
     },
     "execution_count": 93,
     "metadata": {},
     "output_type": "execute_result"
    },
    {
     "data": {
      "image/png": "[encoded data removed]",
      "text/plain": [
       "<Figure size 800x500 with 1 Axes>"
      ]
     },
     "metadata": {},
     "output_type": "display_data"
    }
   ],
   "source": [
    "results = df.groupby(\"City\")[\"Sales\"].sum()\n",
    "cities = df[\"City\"].unique()\n",
    "plt.figure(figsize=(8,5))\n",
    "plt.bar(results.index, results.values)\n",
    "plt.xticks(cities, rotation = 'vertical')\n",
    "plt.xlabel(\"City\")\n",
    "plt.ylabel(\"Sales\")\n",
    "plt.title(\"Sales based on Cities\")"
   ]
  },
  {
   "cell_type": "markdown",
   "id": "5d8eedee-b3b7-448f-93ea-fda58cc95e83",
   "metadata": {},
   "source": [
    "#### Q3: What time should display advertisements to maximize likelihood of customer's buying product? "
   ]
  },
  {
   "cell_type": "code",
   "execution_count": 103,
   "id": "e70ea958-f86b-4af5-b8f7-5a0616ab4406",
   "metadata": {},
   "outputs": [
    {
     "data": {
      "text/html": [
       "<div>\n",
       "<style scoped>\n",
       "    .dataframe tbody tr th:only-of-type {\n",
       "        vertical-align: middle;\n",
       "    }\n",
       "\n",
       "    .dataframe tbody tr th {\n",
       "        vertical-align: top;\n",
       "    }\n",
       "\n",
       "    .dataframe thead th {\n",
       "        text-align: right;\n",
       "    }\n",
       "</style>\n",
       "<table border=\"1\" class=\"dataframe\">\n",
       "  <thead>\n",
       "    <tr style=\"text-align: right;\">\n",
       "      <th></th>\n",
       "      <th>Order ID</th>\n",
       "      <th>Product</th>\n",
       "      <th>Quantity Ordered</th>\n",
       "      <th>Price Each</th>\n",
       "      <th>Order Date</th>\n",
       "      <th>Purchase Address</th>\n",
       "      <th>Month</th>\n",
       "      <th>Sales</th>\n",
       "      <th>City</th>\n",
       "    </tr>\n",
       "  </thead>\n",
       "  <tbody>\n",
       "    <tr>\n",
       "      <th>0</th>\n",
       "      <td>295665</td>\n",
       "      <td>Macbook Pro Laptop</td>\n",
       "      <td>1</td>\n",
       "      <td>1700.00</td>\n",
       "      <td>2019-12-30 00:01:00</td>\n",
       "      <td>136 Church St, New York City, NY 10001</td>\n",
       "      <td>12</td>\n",
       "      <td>1700.00</td>\n",
       "      <td>New York City</td>\n",
       "    </tr>\n",
       "    <tr>\n",
       "      <th>1</th>\n",
       "      <td>295666</td>\n",
       "      <td>LG Washing Machine</td>\n",
       "      <td>1</td>\n",
       "      <td>600.00</td>\n",
       "      <td>2019-12-29 07:03:00</td>\n",
       "      <td>562 2nd St, New York City, NY 10001</td>\n",
       "      <td>12</td>\n",
       "      <td>600.00</td>\n",
       "      <td>New York City</td>\n",
       "    </tr>\n",
       "    <tr>\n",
       "      <th>2</th>\n",
       "      <td>295667</td>\n",
       "      <td>USB-C Charging Cable</td>\n",
       "      <td>1</td>\n",
       "      <td>11.95</td>\n",
       "      <td>2019-12-12 18:21:00</td>\n",
       "      <td>277 Main St, New York City, NY 10001</td>\n",
       "      <td>12</td>\n",
       "      <td>11.95</td>\n",
       "      <td>New York City</td>\n",
       "    </tr>\n",
       "    <tr>\n",
       "      <th>3</th>\n",
       "      <td>295668</td>\n",
       "      <td>27in FHD Monitor</td>\n",
       "      <td>1</td>\n",
       "      <td>149.99</td>\n",
       "      <td>2019-12-22 15:13:00</td>\n",
       "      <td>410 6th St, San Francisco, CA 94016</td>\n",
       "      <td>12</td>\n",
       "      <td>149.99</td>\n",
       "      <td>San Francisco</td>\n",
       "    </tr>\n",
       "    <tr>\n",
       "      <th>4</th>\n",
       "      <td>295669</td>\n",
       "      <td>USB-C Charging Cable</td>\n",
       "      <td>1</td>\n",
       "      <td>11.95</td>\n",
       "      <td>2019-12-18 12:38:00</td>\n",
       "      <td>43 Hill St, Atlanta, GA 30301</td>\n",
       "      <td>12</td>\n",
       "      <td>11.95</td>\n",
       "      <td>Atlanta</td>\n",
       "    </tr>\n",
       "  </tbody>\n",
       "</table>\n",
       "</div>"
      ],
      "text/plain": [
       "  Order ID               Product  Quantity Ordered  Price Each  \\\n",
       "0   295665    Macbook Pro Laptop                 1     1700.00   \n",
       "1   295666    LG Washing Machine                 1      600.00   \n",
       "2   295667  USB-C Charging Cable                 1       11.95   \n",
       "3   295668      27in FHD Monitor                 1      149.99   \n",
       "4   295669  USB-C Charging Cable                 1       11.95   \n",
       "\n",
       "           Order Date                        Purchase Address  Month    Sales  \\\n",
       "0 2019-12-30 00:01:00  136 Church St, New York City, NY 10001     12  1700.00   \n",
       "1 2019-12-29 07:03:00     562 2nd St, New York City, NY 10001     12   600.00   \n",
       "2 2019-12-12 18:21:00    277 Main St, New York City, NY 10001     12    11.95   \n",
       "3 2019-12-22 15:13:00     410 6th St, San Francisco, CA 94016     12   149.99   \n",
       "4 2019-12-18 12:38:00           43 Hill St, Atlanta, GA 30301     12    11.95   \n",
       "\n",
       "             City  \n",
       "0   New York City  \n",
       "1   New York City  \n",
       "2   New York City  \n",
       "3   San Francisco  \n",
       "4         Atlanta  "
      ]
     },
     "execution_count": 103,
     "metadata": {},
     "output_type": "execute_result"
    }
   ],
   "source": [
    "df.head()"
   ]
  },
  {
   "cell_type": "code",
   "execution_count": 109,
   "id": "a6e22c2f-123b-4915-87f4-69b0d24ed64a",
   "metadata": {},
   "outputs": [
    {
     "data": {
      "text/html": [
       "<div>\n",
       "<style scoped>\n",
       "    .dataframe tbody tr th:only-of-type {\n",
       "        vertical-align: middle;\n",
       "    }\n",
       "\n",
       "    .dataframe tbody tr th {\n",
       "        vertical-align: top;\n",
       "    }\n",
       "\n",
       "    .dataframe thead th {\n",
       "        text-align: right;\n",
       "    }\n",
       "</style>\n",
       "<table border=\"1\" class=\"dataframe\">\n",
       "  <thead>\n",
       "    <tr style=\"text-align: right;\">\n",
       "      <th></th>\n",
       "      <th>Order ID</th>\n",
       "      <th>Product</th>\n",
       "      <th>Quantity Ordered</th>\n",
       "      <th>Price Each</th>\n",
       "      <th>Order Date</th>\n",
       "      <th>Purchase Address</th>\n",
       "      <th>Month</th>\n",
       "      <th>Sales</th>\n",
       "      <th>City</th>\n",
       "      <th>Hour</th>\n",
       "    </tr>\n",
       "  </thead>\n",
       "  <tbody>\n",
       "    <tr>\n",
       "      <th>0</th>\n",
       "      <td>295665</td>\n",
       "      <td>Macbook Pro Laptop</td>\n",
       "      <td>1</td>\n",
       "      <td>1700.00</td>\n",
       "      <td>2019-12-30 00:01:00</td>\n",
       "      <td>136 Church St, New York City, NY 10001</td>\n",
       "      <td>12</td>\n",
       "      <td>1700.00</td>\n",
       "      <td>New York City</td>\n",
       "      <td>0</td>\n",
       "    </tr>\n",
       "    <tr>\n",
       "      <th>1</th>\n",
       "      <td>295666</td>\n",
       "      <td>LG Washing Machine</td>\n",
       "      <td>1</td>\n",
       "      <td>600.00</td>\n",
       "      <td>2019-12-29 07:03:00</td>\n",
       "      <td>562 2nd St, New York City, NY 10001</td>\n",
       "      <td>12</td>\n",
       "      <td>600.00</td>\n",
       "      <td>New York City</td>\n",
       "      <td>7</td>\n",
       "    </tr>\n",
       "    <tr>\n",
       "      <th>2</th>\n",
       "      <td>295667</td>\n",
       "      <td>USB-C Charging Cable</td>\n",
       "      <td>1</td>\n",
       "      <td>11.95</td>\n",
       "      <td>2019-12-12 18:21:00</td>\n",
       "      <td>277 Main St, New York City, NY 10001</td>\n",
       "      <td>12</td>\n",
       "      <td>11.95</td>\n",
       "      <td>New York City</td>\n",
       "      <td>18</td>\n",
       "    </tr>\n",
       "    <tr>\n",
       "      <th>3</th>\n",
       "      <td>295668</td>\n",
       "      <td>27in FHD Monitor</td>\n",
       "      <td>1</td>\n",
       "      <td>149.99</td>\n",
       "      <td>2019-12-22 15:13:00</td>\n",
       "      <td>410 6th St, San Francisco, CA 94016</td>\n",
       "      <td>12</td>\n",
       "      <td>149.99</td>\n",
       "      <td>San Francisco</td>\n",
       "      <td>15</td>\n",
       "    </tr>\n",
       "    <tr>\n",
       "      <th>4</th>\n",
       "      <td>295669</td>\n",
       "      <td>USB-C Charging Cable</td>\n",
       "      <td>1</td>\n",
       "      <td>11.95</td>\n",
       "      <td>2019-12-18 12:38:00</td>\n",
       "      <td>43 Hill St, Atlanta, GA 30301</td>\n",
       "      <td>12</td>\n",
       "      <td>11.95</td>\n",
       "      <td>Atlanta</td>\n",
       "      <td>12</td>\n",
       "    </tr>\n",
       "  </tbody>\n",
       "</table>\n",
       "</div>"
      ],
      "text/plain": [
       "  Order ID               Product  Quantity Ordered  Price Each  \\\n",
       "0   295665    Macbook Pro Laptop                 1     1700.00   \n",
       "1   295666    LG Washing Machine                 1      600.00   \n",
       "2   295667  USB-C Charging Cable                 1       11.95   \n",
       "3   295668      27in FHD Monitor                 1      149.99   \n",
       "4   295669  USB-C Charging Cable                 1       11.95   \n",
       "\n",
       "           Order Date                        Purchase Address  Month    Sales  \\\n",
       "0 2019-12-30 00:01:00  136 Church St, New York City, NY 10001     12  1700.00   \n",
       "1 2019-12-29 07:03:00     562 2nd St, New York City, NY 10001     12   600.00   \n",
       "2 2019-12-12 18:21:00    277 Main St, New York City, NY 10001     12    11.95   \n",
       "3 2019-12-22 15:13:00     410 6th St, San Francisco, CA 94016     12   149.99   \n",
       "4 2019-12-18 12:38:00           43 Hill St, Atlanta, GA 30301     12    11.95   \n",
       "\n",
       "             City  Hour  \n",
       "0   New York City     0  \n",
       "1   New York City     7  \n",
       "2   New York City    18  \n",
       "3   San Francisco    15  \n",
       "4         Atlanta    12  "
      ]
     },
     "execution_count": 109,
     "metadata": {},
     "output_type": "execute_result"
    }
   ],
   "source": [
    "df[\"Hour\"] = df[\"Order Date\"].dt.hour\n",
    "df.head()"
   ]
  },
  {
   "cell_type": "code",
   "execution_count": 119,
   "id": "7bac5925-0387-4f56-ade2-85673a1bc651",
   "metadata": {
    "scrolled": true
   },
   "outputs": [
    {
     "data": {
      "text/plain": [
       "Hour\n",
       "3      145757.89\n",
       "4      162661.01\n",
       "5      230679.82\n",
       "2      234851.44\n",
       "6      448113.00\n",
       "1      460866.88\n",
       "0      713721.27\n",
       "7      744854.12\n",
       "23    1179304.44\n",
       "8     1192348.97\n",
       "22    1607549.21\n",
       "9     1639030.58\n",
       "16    1904601.31\n",
       "15    1941549.60\n",
       "10    1944286.77\n",
       "21    2042000.86\n",
       "14    2083672.73\n",
       "17    2129361.61\n",
       "13    2155389.80\n",
       "18    2219348.30\n",
       "20    2281716.24\n",
       "11    2300610.24\n",
       "12    2316821.34\n",
       "19    2412938.54\n",
       "Name: Sales, dtype: float64"
      ]
     },
     "execution_count": 119,
     "metadata": {},
     "output_type": "execute_result"
    }
   ],
   "source": [
    "df.groupby(\"Hour\")[\"Sales\"].sum().sort_values()"
   ]
  },
  {
   "cell_type": "code",
   "execution_count": 125,
   "id": "8389121a-6a73-429f-8572-8fd17eb78511",
   "metadata": {},
   "outputs": [
    {
     "data": {
      "image/png": "[encoded data removed]",
      "text/plain": [
       "<Figure size 640x480 with 1 Axes>"
      ]
     },
     "metadata": {},
     "output_type": "display_data"
    }
   ],
   "source": [
    "results  = df.groupby(\"Hour\")[\"Sales\"].sum()\n",
    "hour = df[\"Hour\"].unique()\n",
    "plt.plot(results.index , results.values)\n",
    "plt.xticks(hour)\n",
    "plt.xlabel(\"Hour\")\n",
    "plt.ylabel(\"Sales\")\n",
    "plt.title(\"Sales based on hour\")\n",
    "plt.grid()\n",
    "plt.show()"
   ]
  },
  {
   "cell_type": "markdown",
   "id": "dd72b05d-2da5-4cd0-a913-a9ac5d6ee88d",
   "metadata": {},
   "source": [
    "#### Q4: What products are the most often sold together?"
   ]
  },
  {
   "cell_type": "code",
   "execution_count": 139,
   "id": "7687a6f9-0a67-455f-b784-8a63e6ebb5f1",
   "metadata": {},
   "outputs": [
    {
     "name": "stderr",
     "output_type": "stream",
     "text": [
      "/var/folders/6h/b7k80vt12jbggrr00k49s1hm0000gn/T/ipykernel_74532/2049082039.py:2: SettingWithCopyWarning: \n",
      "A value is trying to be set on a copy of a slice from a DataFrame.\n",
      "Try using .loc[row_indexer,col_indexer] = value instead\n",
      "\n",
      "See the caveats in the documentation: https://pandas.pydata.org/pandas-docs/stable/user_guide/indexing.html#returning-a-view-versus-a-copy\n",
      "  double[\"Grouped\"] = double.groupby(\"Order ID\")[\"Product\"].transform(lambda x: ','.join(x))\n"
     ]
    }
   ],
   "source": [
    "double = df[df[\"Order ID\"].duplicated(keep = False)]\n",
    "double[\"Grouped\"] = double.groupby(\"Order ID\")[\"Product\"].transform(lambda x: ','.join(x))"
   ]
  },
  {
   "cell_type": "code",
   "execution_count": 149,
   "id": "fff0ef98-f743-4334-b66f-a0a5d2d48e7a",
   "metadata": {},
   "outputs": [],
   "source": [
    "double = double[[\"Order ID\",\"Grouped\"]].drop_duplicates()"
   ]
  },
  {
   "cell_type": "code",
   "execution_count": 161,
   "id": "5b2a2483-6dd0-47cb-b9ea-fb996a57b383",
   "metadata": {},
   "outputs": [
    {
     "data": {
      "text/plain": [
       "[(('iPhone', 'Lightning Charging Cable'), 1005),\n",
       " (('Google Phone', 'USB-C Charging Cable'), 987),\n",
       " (('iPhone', 'Wired Headphones'), 447),\n",
       " (('Google Phone', 'Wired Headphones'), 414),\n",
       " (('Vareebadd Phone', 'USB-C Charging Cable'), 361),\n",
       " (('iPhone', 'Apple Airpods Headphones'), 360),\n",
       " (('Google Phone', 'Bose SoundSport Headphones'), 220),\n",
       " (('USB-C Charging Cable', 'Wired Headphones'), 160),\n",
       " (('Vareebadd Phone', 'Wired Headphones'), 143),\n",
       " (('Lightning Charging Cable', 'Wired Headphones'), 92)]"
      ]
     },
     "execution_count": 161,
     "metadata": {},
     "output_type": "execute_result"
    }
   ],
   "source": [
    "from itertools import combinations\n",
    "from collections import Counter\n",
    "count = Counter()\n",
    "for row in double[\"Grouped\"]:\n",
    "    row_list = row.split(',')\n",
    "    count.update(Counter(combinations(row_list,2)))\n",
    "count.most_common(10)"
   ]
  },
  {
   "cell_type": "markdown",
   "id": "6c016cd6-bb51-4a5e-95f5-c05d10f6ebc6",
   "metadata": {},
   "source": [
    "#### Q5: What product sold the most? Why do you think it sold the most?"
   ]
  },
  {
   "cell_type": "code",
   "execution_count": 170,
   "id": "63947ca1-a46f-40ae-8ffc-83d771150fcb",
   "metadata": {
    "scrolled": true
   },
   "outputs": [
    {
     "data": {
      "text/html": [
       "<div>\n",
       "<style scoped>\n",
       "    .dataframe tbody tr th:only-of-type {\n",
       "        vertical-align: middle;\n",
       "    }\n",
       "\n",
       "    .dataframe tbody tr th {\n",
       "        vertical-align: top;\n",
       "    }\n",
       "\n",
       "    .dataframe thead th {\n",
       "        text-align: right;\n",
       "    }\n",
       "</style>\n",
       "<table border=\"1\" class=\"dataframe\">\n",
       "  <thead>\n",
       "    <tr style=\"text-align: right;\">\n",
       "      <th></th>\n",
       "      <th>Quantity Ordered</th>\n",
       "      <th>Price Each</th>\n",
       "      <th>Month</th>\n",
       "      <th>Sales</th>\n",
       "      <th>Hour</th>\n",
       "    </tr>\n",
       "    <tr>\n",
       "      <th>Product</th>\n",
       "      <th></th>\n",
       "      <th></th>\n",
       "      <th></th>\n",
       "      <th></th>\n",
       "      <th></th>\n",
       "    </tr>\n",
       "  </thead>\n",
       "  <tbody>\n",
       "    <tr>\n",
       "      <th>AAA Batteries (4-pack)</th>\n",
       "      <td>31017</td>\n",
       "      <td>61716.59</td>\n",
       "      <td>146370</td>\n",
       "      <td>92740.83</td>\n",
       "      <td>297332</td>\n",
       "    </tr>\n",
       "    <tr>\n",
       "      <th>AA Batteries (4-pack)</th>\n",
       "      <td>27635</td>\n",
       "      <td>79015.68</td>\n",
       "      <td>145558</td>\n",
       "      <td>106118.40</td>\n",
       "      <td>298342</td>\n",
       "    </tr>\n",
       "    <tr>\n",
       "      <th>USB-C Charging Cable</th>\n",
       "      <td>23975</td>\n",
       "      <td>261740.85</td>\n",
       "      <td>154819</td>\n",
       "      <td>286501.25</td>\n",
       "      <td>314645</td>\n",
       "    </tr>\n",
       "    <tr>\n",
       "      <th>Lightning Charging Cable</th>\n",
       "      <td>23217</td>\n",
       "      <td>323787.10</td>\n",
       "      <td>153092</td>\n",
       "      <td>347094.15</td>\n",
       "      <td>312529</td>\n",
       "    </tr>\n",
       "    <tr>\n",
       "      <th>Wired Headphones</th>\n",
       "      <td>20557</td>\n",
       "      <td>226395.18</td>\n",
       "      <td>133397</td>\n",
       "      <td>246478.43</td>\n",
       "      <td>271720</td>\n",
       "    </tr>\n",
       "    <tr>\n",
       "      <th>Apple Airpods Headphones</th>\n",
       "      <td>15661</td>\n",
       "      <td>2332350.00</td>\n",
       "      <td>109477</td>\n",
       "      <td>2349150.00</td>\n",
       "      <td>223304</td>\n",
       "    </tr>\n",
       "    <tr>\n",
       "      <th>Bose SoundSport Headphones</th>\n",
       "      <td>13457</td>\n",
       "      <td>1332366.75</td>\n",
       "      <td>94113</td>\n",
       "      <td>1345565.43</td>\n",
       "      <td>192445</td>\n",
       "    </tr>\n",
       "    <tr>\n",
       "      <th>27in FHD Monitor</th>\n",
       "      <td>7550</td>\n",
       "      <td>1125974.93</td>\n",
       "      <td>52558</td>\n",
       "      <td>1132424.50</td>\n",
       "      <td>107540</td>\n",
       "    </tr>\n",
       "    <tr>\n",
       "      <th>iPhone</th>\n",
       "      <td>6849</td>\n",
       "      <td>4789400.00</td>\n",
       "      <td>47941</td>\n",
       "      <td>4794300.00</td>\n",
       "      <td>98657</td>\n",
       "    </tr>\n",
       "    <tr>\n",
       "      <th>27in 4K Gaming Monitor</th>\n",
       "      <td>6244</td>\n",
       "      <td>2429637.70</td>\n",
       "      <td>44440</td>\n",
       "      <td>2435097.56</td>\n",
       "      <td>90916</td>\n",
       "    </tr>\n",
       "    <tr>\n",
       "      <th>34in Ultrawide Monitor</th>\n",
       "      <td>6199</td>\n",
       "      <td>2348718.19</td>\n",
       "      <td>43304</td>\n",
       "      <td>2355558.01</td>\n",
       "      <td>89076</td>\n",
       "    </tr>\n",
       "    <tr>\n",
       "      <th>Google Phone</th>\n",
       "      <td>5532</td>\n",
       "      <td>3315000.00</td>\n",
       "      <td>38305</td>\n",
       "      <td>3319200.00</td>\n",
       "      <td>79479</td>\n",
       "    </tr>\n",
       "    <tr>\n",
       "      <th>Flatscreen TV</th>\n",
       "      <td>4819</td>\n",
       "      <td>1440000.00</td>\n",
       "      <td>34224</td>\n",
       "      <td>1445700.00</td>\n",
       "      <td>68815</td>\n",
       "    </tr>\n",
       "    <tr>\n",
       "      <th>Macbook Pro Laptop</th>\n",
       "      <td>4728</td>\n",
       "      <td>8030800.00</td>\n",
       "      <td>33548</td>\n",
       "      <td>8037600.00</td>\n",
       "      <td>68261</td>\n",
       "    </tr>\n",
       "    <tr>\n",
       "      <th>ThinkPad Laptop</th>\n",
       "      <td>4130</td>\n",
       "      <td>4127958.72</td>\n",
       "      <td>28950</td>\n",
       "      <td>4129958.70</td>\n",
       "      <td>59746</td>\n",
       "    </tr>\n",
       "    <tr>\n",
       "      <th>20in Monitor</th>\n",
       "      <td>4129</td>\n",
       "      <td>451068.99</td>\n",
       "      <td>29336</td>\n",
       "      <td>454148.71</td>\n",
       "      <td>58764</td>\n",
       "    </tr>\n",
       "    <tr>\n",
       "      <th>Vareebadd Phone</th>\n",
       "      <td>2068</td>\n",
       "      <td>826000.00</td>\n",
       "      <td>14309</td>\n",
       "      <td>827200.00</td>\n",
       "      <td>29472</td>\n",
       "    </tr>\n",
       "    <tr>\n",
       "      <th>LG Washing Machine</th>\n",
       "      <td>666</td>\n",
       "      <td>399600.00</td>\n",
       "      <td>4523</td>\n",
       "      <td>399600.00</td>\n",
       "      <td>9785</td>\n",
       "    </tr>\n",
       "    <tr>\n",
       "      <th>LG Dryer</th>\n",
       "      <td>646</td>\n",
       "      <td>387600.00</td>\n",
       "      <td>4383</td>\n",
       "      <td>387600.00</td>\n",
       "      <td>9326</td>\n",
       "    </tr>\n",
       "  </tbody>\n",
       "</table>\n",
       "</div>"
      ],
      "text/plain": [
       "                            Quantity Ordered  Price Each   Month       Sales  \\\n",
       "Product                                                                        \n",
       "AAA Batteries (4-pack)                 31017    61716.59  146370    92740.83   \n",
       "AA Batteries (4-pack)                  27635    79015.68  145558   106118.40   \n",
       "USB-C Charging Cable                   23975   261740.85  154819   286501.25   \n",
       "Lightning Charging Cable               23217   323787.10  153092   347094.15   \n",
       "Wired Headphones                       20557   226395.18  133397   246478.43   \n",
       "Apple Airpods Headphones               15661  2332350.00  109477  2349150.00   \n",
       "Bose SoundSport Headphones             13457  1332366.75   94113  1345565.43   \n",
       "27in FHD Monitor                        7550  1125974.93   52558  1132424.50   \n",
       "iPhone                                  6849  4789400.00   47941  4794300.00   \n",
       "27in 4K Gaming Monitor                  6244  2429637.70   44440  2435097.56   \n",
       "34in Ultrawide Monitor                  6199  2348718.19   43304  2355558.01   \n",
       "Google Phone                            5532  3315000.00   38305  3319200.00   \n",
       "Flatscreen TV                           4819  1440000.00   34224  1445700.00   \n",
       "Macbook Pro Laptop                      4728  8030800.00   33548  8037600.00   \n",
       "ThinkPad Laptop                         4130  4127958.72   28950  4129958.70   \n",
       "20in Monitor                            4129   451068.99   29336   454148.71   \n",
       "Vareebadd Phone                         2068   826000.00   14309   827200.00   \n",
       "LG Washing Machine                       666   399600.00    4523   399600.00   \n",
       "LG Dryer                                 646   387600.00    4383   387600.00   \n",
       "\n",
       "                              Hour  \n",
       "Product                             \n",
       "AAA Batteries (4-pack)      297332  \n",
       "AA Batteries (4-pack)       298342  \n",
       "USB-C Charging Cable        314645  \n",
       "Lightning Charging Cable    312529  \n",
       "Wired Headphones            271720  \n",
       "Apple Airpods Headphones    223304  \n",
       "Bose SoundSport Headphones  192445  \n",
       "27in FHD Monitor            107540  \n",
       "iPhone                       98657  \n",
       "27in 4K Gaming Monitor       90916  \n",
       "34in Ultrawide Monitor       89076  \n",
       "Google Phone                 79479  \n",
       "Flatscreen TV                68815  \n",
       "Macbook Pro Laptop           68261  \n",
       "ThinkPad Laptop              59746  \n",
       "20in Monitor                 58764  \n",
       "Vareebadd Phone              29472  \n",
       "LG Washing Machine            9785  \n",
       "LG Dryer                      9326  "
      ]
     },
     "execution_count": 170,
     "metadata": {},
     "output_type": "execute_result"
    }
   ],
   "source": [
    "product_group = df.groupby(\"Product\")\n",
    "product_group.sum(numeric_only = True).sort_values(\"Quantity Ordered\", ascending = False)"
   ]
  },
  {
   "cell_type": "code",
   "execution_count": 180,
   "id": "8f0aec70-0ad8-4198-93f7-9ee9802df746",
   "metadata": {},
   "outputs": [
    {
     "data": {
      "image/png": "[encoded data removed]",
      "text/plain": [
       "<Figure size 640x480 with 1 Axes>"
      ]
     },
     "metadata": {},
     "output_type": "display_data"
    }
   ],
   "source": [
    "product_group = df.groupby(\"Product\")\n",
    "quantity_ordered = product_group.sum(numeric_only =True)[\"Quantity Ordered\"]\n",
    "products = [product for product, double in product_group]\n",
    "plt.bar(products, quantity_ordered)\n",
    "plt.xlabel(\"Products\")\n",
    "plt.ylabel(\"Quantity Order\")\n",
    "plt.title(\"Products of Quantity Order\")\n",
    "plt.xticks(rotation ='vertical')\n",
    "plt.show()"
   ]
  },
  {
   "cell_type": "code",
   "execution_count": 190,
   "id": "84d7ea75-1784-403d-9e3f-1001261b2838",
   "metadata": {},
   "outputs": [],
   "source": [
    "price = df.groupby(\"Product\")[\"Price Each\"].mean()"
   ]
  },
  {
   "cell_type": "code",
   "execution_count": 194,
   "id": "ebc692e0-f543-4044-ba0e-7332310fe246",
   "metadata": {
    "scrolled": true
   },
   "outputs": [
    {
     "data": {
      "text/plain": [
       "Product\n",
       "AAA Batteries (4-pack)           2.99\n",
       "AA Batteries (4-pack)            3.84\n",
       "USB-C Charging Cable            11.95\n",
       "Wired Headphones                11.99\n",
       "Lightning Charging Cable        14.95\n",
       "Bose SoundSport Headphones      99.99\n",
       "20in Monitor                   109.99\n",
       "27in FHD Monitor               149.99\n",
       "Apple Airpods Headphones       150.00\n",
       "Flatscreen TV                  300.00\n",
       "34in Ultrawide Monitor         379.99\n",
       "27in 4K Gaming Monitor         389.99\n",
       "Vareebadd Phone                400.00\n",
       "Google Phone                   600.00\n",
       "LG Washing Machine             600.00\n",
       "LG Dryer                       600.00\n",
       "iPhone                         700.00\n",
       "ThinkPad Laptop                999.99\n",
       "Macbook Pro Laptop            1700.00\n",
       "Name: Price Each, dtype: float64"
      ]
     },
     "execution_count": 194,
     "metadata": {},
     "output_type": "execute_result"
    }
   ],
   "source": [
    "price.sort_values()"
   ]
  },
  {
   "cell_type": "code",
   "execution_count": 206,
   "id": "a83069b1-2af7-4840-9b03-7e7485bfe0b9",
   "metadata": {},
   "outputs": [
    {
     "name": "stderr",
     "output_type": "stream",
     "text": [
      "/var/folders/6h/b7k80vt12jbggrr00k49s1hm0000gn/T/ipykernel_74532/2452387863.py:10: UserWarning: set_ticklabels() should only be used with a fixed number of ticks, i.e. after set_ticks() or using a FixedLocator.\n",
      "  ax1.set_xticklabels(products, rotation='vertical', size=8)\n"
     ]
    },
    {
     "data": {
      "image/png": "[encoded data removed]",
      "text/plain": [
       "<Figure size 640x480 with 2 Axes>"
      ]
     },
     "metadata": {},
     "output_type": "display_data"
    }
   ],
   "source": [
    "price = df.groupby(\"Product\")[\"Price Each\"].mean() \n",
    "fig, ax1 = plt.subplots()\n",
    "\n",
    "ax2 = ax1.twinx()\n",
    "ax1.bar(products, quantity_ordered)\n",
    "ax2.plot(products, price,'r-')\n",
    "\n",
    "ax1.set_xlabel(\"Product Name\")\n",
    "ax1.set_ylabel(\"Quantity Ordered\", color='b')\n",
    "ax1.set_xticklabels(products, rotation='vertical', size=8)\n",
    "ax2.set_ylabel(\"Price\", color='r')\n",
    "plt.show()"
   ]
  },
  {
   "cell_type": "code",
   "execution_count": null,
   "id": "647f14b8-337f-4bbb-b55c-f65874f7672f",
   "metadata": {},
   "outputs": [],
   "source": []
  }
 ],
 "metadata": {
  "kernelspec": {
   "display_name": "Python [conda env:base] *",
   "language": "python",
   "name": "conda-base-py"
  },
  "language_info": {
   "codemirror_mode": {
    "name": "ipython",
    "version": 3
   },
   "file_extension": ".py",
   "mimetype": "text/x-python",
   "name": "python",
   "nbconvert_exporter": "python",
   "pygments_lexer": "ipython3",
   "version": "3.12.7"
  }
 },
 "nbformat": 4,
 "nbformat_minor": 5
}
